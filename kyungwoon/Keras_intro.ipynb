{
  "nbformat": 4,
  "nbformat_minor": 0,
  "metadata": {
    "colab": {
      "name": "Keras_intro.ipynb",
      "provenance": [],
      "collapsed_sections": []
    },
    "kernelspec": {
      "name": "python3",
      "display_name": "Python 3"
    },
    "accelerator": "GPU"
  },
  "cells": [
    {
      "cell_type": "markdown",
      "metadata": {
        "id": "h_WS25r4ccZM",
        "colab_type": "text"
      },
      "source": [
        "# 주피터 노트북\n",
        "\n",
        "코드를 작성하고 실행시키면\n",
        "\n",
        "코드가 Jupyter 서버로 전송되고\n",
        "\n",
        "실행된 결과가 이 페이지에 보여집니다."
      ]
    },
    {
      "cell_type": "code",
      "metadata": {
        "id": "nv4QT2X_cVeK",
        "colab_type": "code",
        "colab": {
          "base_uri": "https://localhost:8080/",
          "height": 34
        },
        "outputId": "7e6b6868-ab34-4298-cc55-eadb4567f5c1"
      },
      "source": [
        "print(\"hello Keras\")"
      ],
      "execution_count": 1,
      "outputs": [
        {
          "output_type": "stream",
          "text": [
            "hello Keras\n"
          ],
          "name": "stdout"
        }
      ]
    },
    {
      "cell_type": "markdown",
      "metadata": {
        "id": "cGqWe2mqdBhj",
        "colab_type": "text"
      },
      "source": [
        "# 첫 Keras로 구현한 DNN\n",
        "\n",
        "y = x*x 함수"
      ]
    },
    {
      "cell_type": "code",
      "metadata": {
        "id": "iVhFH6ZhcbI8",
        "colab_type": "code",
        "colab": {
          "base_uri": "https://localhost:8080/",
          "height": 286
        },
        "outputId": "c80e51cb-e1f7-4cc7-8cdd-6a91ba289ffc"
      },
      "source": [
        "import numpy as np\n",
        "import matplotlib.pyplot as plt\n",
        "\n",
        "x = np.arange(-1,1,0.01)\n",
        "y = x**2\n",
        "\n",
        "plt.scatter(x,y)"
      ],
      "execution_count": 2,
      "outputs": [
        {
          "output_type": "execute_result",
          "data": {
            "text/plain": [
              "<matplotlib.collections.PathCollection at 0x7f4b956cf3c8>"
            ]
          },
          "metadata": {
            "tags": []
          },
          "execution_count": 2
        },
        {
          "output_type": "display_data",
          "data": {
            "image/png": "[encoded data removed]",
            "text/plain": [
              "<Figure size 432x288 with 1 Axes>"
            ]
          },
          "metadata": {
            "tags": []
          }
        }
      ]
    },
    {
      "cell_type": "markdown",
      "metadata": {
        "id": "AneOsvE_eYU7",
        "colab_type": "text"
      },
      "source": [
        "## 필요한 라이브러리 임포팅\n",
        "\n",
        "- numpy : 딥러닝에서 표준으로 사용되는 데이터 담는 그릇\n",
        "- pandas : 데이터 탐색, 전처리 하기 위한\n",
        "- matplot : 그래프 그려주는\n",
        "- tensorflow : 실제 딥러닝 실행되는 백엔드 프레임웤\n",
        "- keras : 편의성 편한 딥러닝 프레임웤"
      ]
    },
    {
      "cell_type": "code",
      "metadata": {
        "id": "voKQeotoeWIN",
        "colab_type": "code",
        "colab": {}
      },
      "source": [
        "import numpy as np\n",
        "import pandas as pd\n",
        "import matplotlib.pyplot as plt\n",
        "\n",
        "from tensorflow import keras\n",
        "from tensorflow.keras import optimizers\n",
        "from tensorflow.keras.layers import Dense, Input"
      ],
      "execution_count": 0,
      "outputs": []
    },
    {
      "cell_type": "markdown",
      "metadata": {
        "id": "BvbQ4_E_faIL",
        "colab_type": "text"
      },
      "source": [
        "## 모델 정의\n",
        "\n",
        "- 입력은 값 하나, 출력도 값 하나. 그래서 입력층의 노드가 1개, 출력층의 노드도 1개\n",
        "- 중간의 은닉층은 2개이다. 각각 10개의 노드를 갖느다."
      ]
    },
    {
      "cell_type": "code",
      "metadata": {
        "id": "nrjklv5TfqbJ",
        "colab_type": "code",
        "colab": {
          "base_uri": "https://localhost:8080/",
          "height": 87
        },
        "outputId": "64b391c6-2e82-472c-88d3-464de7c840d7"
      },
      "source": [
        "model = keras.Sequential()\n",
        "model.add(Input(1))\n",
        "model.add(Dense(10, activation='tanh'))\n",
        "model.add(Dense(10, activation='tanh'))\n",
        "model.add(Dense(1))"
      ],
      "execution_count": 5,
      "outputs": [
        {
          "output_type": "stream",
          "text": [
            "WARNING:tensorflow:From /usr/local/lib/python3.6/dist-packages/tensorflow_core/python/ops/resource_variable_ops.py:1630: calling BaseResourceVariable.__init__ (from tensorflow.python.ops.resource_variable_ops) with constraint is deprecated and will be removed in a future version.\n",
            "Instructions for updating:\n",
            "If using Keras pass *_constraint arguments to layers.\n"
          ],
          "name": "stdout"
        }
      ]
    },
    {
      "cell_type": "markdown",
      "metadata": {
        "id": "5kTAWJMBfsdt",
        "colab_type": "text"
      },
      "source": [
        "## 사용될 GD와 비용 함수 정의\n",
        "\n",
        "학습을 위해서는 다음 2가지 설정이 필요하다.\n",
        "\n",
        "- optimizer : 기반적인 경가강하방법을 개선한 다양한 방법이 있다. 이를 optimizer라 부른다. 본 코드에서는 이중 SGD(Stochastic GD)를 사용\n",
        "\n",
        "- 비용 함수 : 학습이 진행되는 방향을 나타내는 수치. 여기서는 학습에 사용되는 y값과 실제 출력값의 MSE(mean squared error)를 사용하도록 설정했다."
      ]
    },
    {
      "cell_type": "code",
      "metadata": {
        "id": "atJtKWayftEq",
        "colab_type": "code",
        "colab": {}
      },
      "source": [
        "model.compile(optimizer=\"SGD\", loss=\"mse\")"
      ],
      "execution_count": 0,
      "outputs": []
    },
    {
      "cell_type": "markdown",
      "metadata": {
        "id": "wsMc3oI1gagS",
        "colab_type": "text"
      },
      "source": [
        "## 학습 실행\n",
        "\n",
        "1000회 반복 할 것이다. \n",
        "\n",
        "batch_size는 오로지 GPU 사용의 최대 효율을 위한 것이다. 한번에 잔뜩 보내서 빠르게 하자."
      ]
    },
    {
      "cell_type": "code",
      "metadata": {
        "id": "xRT7bpDVgbkf",
        "colab_type": "code",
        "colab": {
          "base_uri": "https://localhost:8080/",
          "height": 34
        },
        "outputId": "b59c56d8-7fba-4c0a-c2c9-686bcb2a121d"
      },
      "source": [
        "model.fit(x, y, epochs=1000, verbose=0, batch_size=20)"
      ],
      "execution_count": 7,
      "outputs": [
        {
          "output_type": "execute_result",
          "data": {
            "text/plain": [
              "<tensorflow.python.keras.callbacks.History at 0x7f4b7c0f5a90>"
            ]
          },
          "metadata": {
            "tags": []
          },
          "execution_count": 7
        }
      ]
    },
    {
      "cell_type": "markdown",
      "metadata": {
        "id": "4XMUk4HxgvN5",
        "colab_type": "text"
      },
      "source": [
        "## 학습된 결과 사용\n",
        "\n",
        "학습된 모델은 함수 이다.\n",
        "\n",
        "함수에 값을 넣어서 출력을 구할 수 있다.\n"
      ]
    },
    {
      "cell_type": "code",
      "metadata": {
        "id": "upquibbzg14X",
        "colab_type": "code",
        "colab": {}
      },
      "source": [
        "y_ = model.predict(x)"
      ],
      "execution_count": 0,
      "outputs": []
    },
    {
      "cell_type": "markdown",
      "metadata": {
        "id": "ACKJpPp4g6FZ",
        "colab_type": "text"
      },
      "source": [
        "## 결과 그래프로 보기"
      ]
    },
    {
      "cell_type": "code",
      "metadata": {
        "id": "3Onl2bhJhANH",
        "colab_type": "code",
        "colab": {
          "base_uri": "https://localhost:8080/",
          "height": 269
        },
        "outputId": "673940f8-4eaa-4cff-af9c-c1d4b0268a57"
      },
      "source": [
        "plt.scatter(x,y) # 정답\n",
        "plt.scatter(x,y_,color='r') # 결과\n",
        "plt.show()"
      ],
      "execution_count": 9,
      "outputs": [
        {
          "output_type": "display_data",
          "data": {
            "image/png": "[encoded data removed]",
            "text/plain": [
              "<Figure size 432x288 with 1 Axes>"
            ]
          },
          "metadata": {
            "tags": []
          }
        }
      ]
    },
    {
      "cell_type": "markdown",
      "metadata": {
        "id": "nfmwUj1DhUeh",
        "colab_type": "text"
      },
      "source": [
        "## 코드를 전부 모아 보면"
      ]
    },
    {
      "cell_type": "code",
      "metadata": {
        "id": "pAKc-oFxd7xQ",
        "colab_type": "code",
        "colab": {
          "base_uri": "https://localhost:8080/",
          "height": 269
        },
        "outputId": "e342b485-cd18-4056-fb1b-a9b6292d7122"
      },
      "source": [
        "# 모델 정의\n",
        "model = keras.Sequential()\n",
        "model.add(Input(1))\n",
        "model.add(Dense(10, activation='tanh'))\n",
        "model.add(Dense(10, activation='tanh'))\n",
        "model.add(Dense(1))\n",
        "\n",
        "# 컴파일 : 모델 + optimizer + loss\n",
        "model.compile(optimizer=\"SGD\", loss=\"mse\")\n",
        "\n",
        "# 학습\n",
        "model.fit(x, y, epochs=1000, verbose=0, batch_size=20)\n",
        "\n",
        "# 예측\n",
        "y_ = model.predict(x)\n",
        "\n",
        "# 결과 그래프로 보기\n",
        "plt.scatter(x,y) # 정답\n",
        "plt.scatter(x,y_,color='r') # 결과\n",
        "plt.show()"
      ],
      "execution_count": 10,
      "outputs": [
        {
          "output_type": "display_data",
          "data": {
            "image/png": "[encoded data removed]",
            "text/plain": [
              "<Figure size 432x288 with 1 Axes>"
            ]
          },
          "metadata": {
            "tags": []
          }
        }
      ]
    },
    {
      "cell_type": "markdown",
      "metadata": {
        "id": "DyL-NYUqhiFo",
        "colab_type": "text"
      },
      "source": [
        "# 2번째 DNN. IRIS 분류\n"
      ]
    },
    {
      "cell_type": "markdown",
      "metadata": {
        "id": "cQZi0EqQl71W",
        "colab_type": "text"
      },
      "source": [
        "## 데이터 가져오기"
      ]
    },
    {
      "cell_type": "code",
      "metadata": {
        "id": "hJt7wml0jPVh",
        "colab_type": "code",
        "colab": {
          "base_uri": "https://localhost:8080/",
          "height": 222
        },
        "outputId": "36b34631-1c37-4c79-a08c-2cdd7a5d8a39"
      },
      "source": [
        "!wget https://github.com/dhrim/oss_university/blob/master/material/iris.csv"
      ],
      "execution_count": 6,
      "outputs": [
        {
          "output_type": "stream",
          "text": [
            "--2019-10-15 13:25:03--  hhttps://github.com/dhrim/oss_university/blob/master/materialiris.csv\n",
            "Resolving raw.githubusercontent.com (raw.githubusercontent.com)... 151.101.0.133, 151.101.64.133, 151.101.128.133, ...\n",
            "Connecting to raw.githubusercontent.com (raw.githubusercontent.com)|151.101.0.133|:443... connected.\n",
            "HTTP request sent, awaiting response... 200 OK\n",
            "Length: 2720 (2.7K) [text/plain]\n",
            "Saving to: ‘iris.csv’\n",
            "\n",
            "\riris.csv              0%[                    ]       0  --.-KB/s               \riris.csv            100%[===================>]   2.66K  --.-KB/s    in 0s      \n",
            "\n",
            "2019-10-15 13:25:03 (53.0 MB/s) - ‘iris.csv’ saved [2720/2720]\n",
            "\n"
          ],
          "name": "stdout"
        }
      ]
    },
    {
      "cell_type": "markdown",
      "metadata": {
        "id": "TKOGnz0emMH4",
        "colab_type": "text"
      },
      "source": [
        "## 데이터 살펴 보기\n",
        "\n",
        "1개의 줄이 1개의 데이터에 해당한다.\n",
        "\n",
        "4개의 값(septal_length, septal_width, petal_length, petal_width)을 입력으로 하여\n",
        "\n",
        "3개의 값(setosa, versicolor, virginica)을 출력으로 하여 학습하면 된다.\n",
        "\n",
        "<br>\n",
        "3개의 출력 값 중, 가장 큰 것이 qnsfbehls rufrhkdlek.\n"
      ]
    },
    {
      "cell_type": "code",
      "metadata": {
        "id": "T4w6LF3fl-f3",
        "colab_type": "code",
        "colab": {
          "base_uri": "https://localhost:8080/",
          "height": 195
        },
        "outputId": "9877c3d8-95c5-4b68-be53-3b954b386b9b"
      },
      "source": [
        "iris = pd.read_csv(\"iris.csv\")\n",
        "iris.head()"
      ],
      "execution_count": 9,
      "outputs": [
        {
          "output_type": "execute_result",
          "data": {
            "text/html": [
              "<div>\n",
              "<style scoped>\n",
              "    .dataframe tbody tr th:only-of-type {\n",
              "        vertical-align: middle;\n",
              "    }\n",
              "\n",
              "    .dataframe tbody tr th {\n",
              "        vertical-align: top;\n",
              "    }\n",
              "\n",
              "    .dataframe thead th {\n",
              "        text-align: right;\n",
              "    }\n",
              "</style>\n",
              "<table border=\"1\" class=\"dataframe\">\n",
              "  <thead>\n",
              "    <tr style=\"text-align: right;\">\n",
              "      <th></th>\n",
              "      <th>septal_length</th>\n",
              "      <th>septal_width</th>\n",
              "      <th>petal_length</th>\n",
              "      <th>petal_width</th>\n",
              "      <th>setosa</th>\n",
              "      <th>versicolor</th>\n",
              "      <th>virginica</th>\n",
              "    </tr>\n",
              "  </thead>\n",
              "  <tbody>\n",
              "    <tr>\n",
              "      <th>0</th>\n",
              "      <td>6.4</td>\n",
              "      <td>2.8</td>\n",
              "      <td>5.6</td>\n",
              "      <td>2.2</td>\n",
              "      <td>0</td>\n",
              "      <td>0</td>\n",
              "      <td>1</td>\n",
              "    </tr>\n",
              "    <tr>\n",
              "      <th>1</th>\n",
              "      <td>5.0</td>\n",
              "      <td>2.3</td>\n",
              "      <td>3.3</td>\n",
              "      <td>1.0</td>\n",
              "      <td>0</td>\n",
              "      <td>1</td>\n",
              "      <td>0</td>\n",
              "    </tr>\n",
              "    <tr>\n",
              "      <th>2</th>\n",
              "      <td>4.9</td>\n",
              "      <td>2.5</td>\n",
              "      <td>4.5</td>\n",
              "      <td>1.7</td>\n",
              "      <td>0</td>\n",
              "      <td>0</td>\n",
              "      <td>1</td>\n",
              "    </tr>\n",
              "    <tr>\n",
              "      <th>3</th>\n",
              "      <td>4.9</td>\n",
              "      <td>3.1</td>\n",
              "      <td>1.5</td>\n",
              "      <td>0.1</td>\n",
              "      <td>1</td>\n",
              "      <td>0</td>\n",
              "      <td>0</td>\n",
              "    </tr>\n",
              "    <tr>\n",
              "      <th>4</th>\n",
              "      <td>5.7</td>\n",
              "      <td>3.8</td>\n",
              "      <td>1.7</td>\n",
              "      <td>0.3</td>\n",
              "      <td>1</td>\n",
              "      <td>0</td>\n",
              "      <td>0</td>\n",
              "    </tr>\n",
              "  </tbody>\n",
              "</table>\n",
              "</div>"
            ],
            "text/plain": [
              "   septal_length  septal_width  petal_length  ...  setosa  versicolor  virginica\n",
              "0            6.4           2.8           5.6  ...       0           0          1\n",
              "1            5.0           2.3           3.3  ...       0           1          0\n",
              "2            4.9           2.5           4.5  ...       0           0          1\n",
              "3            4.9           3.1           1.5  ...       1           0          0\n",
              "4            5.7           3.8           1.7  ...       1           0          0\n",
              "\n",
              "[5 rows x 7 columns]"
            ]
          },
          "metadata": {
            "tags": []
          },
          "execution_count": 9
        }
      ]
    },
    {
      "cell_type": "markdown",
      "metadata": {
        "id": "j7zbyzaumvDl",
        "colab_type": "text"
      },
      "source": [
        "## 데이터 준비\n",
        "\n",
        "pandas로 읽을 것을 numpy에 담았고\n",
        "\n",
        "4개의 컬럼은 입력 x이고, 3개의 컬럼은 출력 y 이다.\n"
      ]
    },
    {
      "cell_type": "code",
      "metadata": {
        "id": "zgPljlQSmAPP",
        "colab_type": "code",
        "colab": {}
      },
      "source": [
        "data = iris.to_numpy()\n",
        "\n",
        "x = data[:,:4] # 앞의 4개 컬럼\n",
        "y = data[:,4:] # 앞 4개 컬럼 뒤 3개\n",
        "\n",
        "split_index = 100\n",
        "\n",
        "# 학습과 테스트에 사용할 데이터를 분류한다.\n",
        "train_x, test_x = x[:split_index], x[split_index:]\n",
        "train_y, test_y = y[:split_index], y[split_index:]"
      ],
      "execution_count": 0,
      "outputs": []
    },
    {
      "cell_type": "markdown",
      "metadata": {
        "id": "ALBpE1HRnFpi",
        "colab_type": "text"
      },
      "source": [
        "## 모델 정의\n",
        "\n",
        "입력층은 4개의 입력을 받는 4개의 노드를 갖고\n",
        "\n",
        "출력층은 3개의 값을 출력하는 3개의 노드를 갖는다.\n",
        "\n",
        "<br>\n",
        "\n",
        "마지막 출력층은 3개의 출력 중 가장 큰값만 추리기 위한 softmax를 사용한다.\n"
      ]
    },
    {
      "cell_type": "code",
      "metadata": {
        "id": "zzh18YH6nCg3",
        "colab_type": "code",
        "colab": {}
      },
      "source": [
        "model = keras.Sequential([\n",
        "    keras.layers.Input(4),\n",
        "    keras.layers.Dense(10, activation='relu'),\n",
        "    keras.layers.Dense(10, activation='relu'),\n",
        "    keras.layers.Dense(3, activation='softmax')\n",
        "])"
      ],
      "execution_count": 0,
      "outputs": []
    },
    {
      "cell_type": "markdown",
      "metadata": {
        "id": "tn64XG4-nvUV",
        "colab_type": "text"
      },
      "source": [
        "## optimizer와 loss\n",
        "\n",
        "optimizer는 그대로 SGD를 사용\n",
        "\n",
        "loss는 3개의 출력중 가장 큰값으로 분류할 때 편의를 위핸 keras에서 지원하는 categorical_crossentropy를 사용한다.\n",
        "\n",
        "<br>\n",
        "\n",
        "그리고 정확도를 보기 위해 역시 keras에서 지원하는 accuracy를 설정해 준다.\n"
      ]
    },
    {
      "cell_type": "code",
      "metadata": {
        "id": "PgmKheS1nSBq",
        "colab_type": "code",
        "colab": {}
      },
      "source": [
        "model.compile(optimizer='SGD',\n",
        "              loss='categorical_crossentropy',\n",
        "              metrics=['accuracy'])"
      ],
      "execution_count": 0,
      "outputs": []
    },
    {
      "cell_type": "markdown",
      "metadata": {
        "id": "3s3C634Pori6",
        "colab_type": "text"
      },
      "source": [
        "## 학습"
      ]
    },
    {
      "cell_type": "code",
      "metadata": {
        "id": "SEhWs4vmnTXv",
        "colab_type": "code",
        "colab": {
          "base_uri": "https://localhost:8080/",
          "height": 34
        },
        "outputId": "4aa21f51-f1eb-4d9f-9468-aaefe8c3a49b"
      },
      "source": [
        "model.fit(train_x, train_y, epochs=200, verbose=0)"
      ],
      "execution_count": 35,
      "outputs": [
        {
          "output_type": "execute_result",
          "data": {
            "text/plain": [
              "<tensorflow.python.keras.callbacks.History at 0x7ff8066885c0>"
            ]
          },
          "metadata": {
            "tags": []
          },
          "execution_count": 35
        }
      ]
    },
    {
      "cell_type": "markdown",
      "metadata": {
        "id": "IXqVmTWvouKo",
        "colab_type": "text"
      },
      "source": [
        "## 성능 확인\n",
        "\n",
        "특이한 것은, 학습에 사용하지 않은 별개의 데이터 test_x, test_y를 사용하여 성능을 확인한다.\n"
      ]
    },
    {
      "cell_type": "code",
      "metadata": {
        "id": "tT-f36whnUuv",
        "colab_type": "code",
        "colab": {
          "base_uri": "https://localhost:8080/",
          "height": 67
        },
        "outputId": "c2f406ae-df5c-4b1a-9633-687ee90e3b42"
      },
      "source": [
        "loss, acc = model.evaluate(test_x, test_y)\n",
        "\n",
        "print(\"loss :\", loss)\n",
        "print(\"acc :\", acc)"
      ],
      "execution_count": 36,
      "outputs": [
        {
          "output_type": "stream",
          "text": [
            "\r20/20 [==============================] - 0s 2ms/sample - loss: 0.0128 - acc: 1.0000\n",
            "loss : 0.012839801609516144\n",
            "acc : 1.0\n"
          ],
          "name": "stdout"
        }
      ]
    },
    {
      "cell_type": "markdown",
      "metadata": {
        "id": "HL30sbXpo5Hn",
        "colab_type": "text"
      },
      "source": [
        "## 뷴류기 함수 호출\n",
        "\n",
        "학습이 완료된 model에 입력값을 주어 출력을 얻는다.\n"
      ]
    },
    {
      "cell_type": "code",
      "metadata": {
        "id": "iUuRUlolnWKB",
        "colab_type": "code",
        "colab": {
          "base_uri": "https://localhost:8080/",
          "height": 370
        },
        "outputId": "94f260c2-2672-4618-9df4-ff65028dbae2"
      },
      "source": [
        "y_ = model.predict(test_x)\n",
        "print(y_)\n",
        "print(np.argmax(y_, axis=1))"
      ],
      "execution_count": 37,
      "outputs": [
        {
          "output_type": "stream",
          "text": [
            "[[9.9921298e-01 7.8705413e-04 1.3571800e-11]\n",
            " [5.7107862e-03 9.9353880e-01 7.5046672e-04]\n",
            " [9.9589300e-01 4.1070008e-03 1.3874040e-09]\n",
            " [8.7609142e-04 9.9841094e-01 7.1287301e-04]\n",
            " [9.9956793e-01 4.3200998e-04 2.2904957e-12]\n",
            " [9.9969327e-01 3.0673659e-04 9.6955311e-13]\n",
            " [9.9983513e-01 1.6485828e-04 1.6791821e-13]\n",
            " [9.9979061e-01 2.0942034e-04 4.1575036e-13]\n",
            " [2.9442986e-03 9.9677950e-01 2.7631337e-04]\n",
            " [9.9927551e-01 7.2454469e-04 9.9639411e-12]\n",
            " [3.8492139e-08 1.7719218e-01 8.2280773e-01]\n",
            " [1.4782154e-04 9.9646425e-01 3.3878973e-03]\n",
            " [9.9914539e-01 8.5463101e-04 1.3292009e-11]\n",
            " [1.0868524e-14 3.5265097e-05 9.9996471e-01]\n",
            " [9.9958211e-01 4.1791389e-04 2.1075633e-12]\n",
            " [1.6885022e-05 9.6801454e-01 3.1968631e-02]\n",
            " [2.6843889e-04 9.9843401e-01 1.2975279e-03]\n",
            " [9.9888951e-01 1.1104604e-03 4.6604193e-11]\n",
            " [9.9926323e-01 7.3679601e-04 1.2249725e-11]\n",
            " [2.0292241e-03 9.9705374e-01 9.1699592e-04]]\n",
            "[0 1 0 1 0 0 0 0 1 0 2 1 0 2 0 1 1 0 0 1]\n"
          ],
          "name": "stdout"
        }
      ]
    },
    {
      "cell_type": "code",
      "metadata": {
        "id": "Gq2zIN24nZyX",
        "colab_type": "code",
        "colab": {}
      },
      "source": [
        ""
      ],
      "execution_count": 0,
      "outputs": []
    }
  ]
}